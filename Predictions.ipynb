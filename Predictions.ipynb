{
 "cells": [
  {
   "cell_type": "code",
   "execution_count": null,
   "metadata": {},
   "outputs": [],
   "source": [
    "import numpy as np\n",
    "import pandas as pd\n",
    "from sklearn.ensemble import RandomForestClassifier\n",
    "from sklearn.metrics import roc_curve, auc, confusion_matrix, accuracy_score\n",
    "from sklearn.preprocessing import LabelEncoder\n",
    "from sklearn.model_selection import train_test_split\n",
    "import matplotlib.pyplot as plt\n",
    "import seaborn as sns"
   ]
  },
  {
   "cell_type": "markdown",
   "metadata": {},
   "source": [
    "Enter parameters here."
   ]
  },
  {
   "cell_type": "code",
   "execution_count": null,
   "metadata": {},
   "outputs": [],
   "source": [
    "# This is the source for training data.\n",
    "train_data = pd.read_csv(\"clean_data1.csv\")\n",
    "\n",
    "# This is the source for testing data.\n",
    "test_data = pd.read_csv(\"clean_data2.csv\")\n",
    "\n",
    "# If this is None, then the other data sources are used. Otherwise, this is the source for both training and testing data.\n",
    "combined_data = None\n",
    "\n",
    "# This is the column to test for.\n",
    "objective = \"gardener\"\n",
    "\n",
    "# This is a list of columns to ignore when training the decision tree.\n",
    "ignored_features = []"
   ]
  },
  {
   "cell_type": "code",
   "execution_count": null,
   "metadata": {},
   "outputs": [],
   "source": [
    "chosen_data = (train_data, test_data) if combined_data is None else (combined_data,)"
   ]
  },
  {
   "cell_type": "code",
   "execution_count": null,
   "metadata": {},
   "outputs": [],
   "source": [
    "for data in chosen_data:\n",
    "    for column in data:\n",
    "        encoder = LabelEncoder()\n",
    "        data[column] = encoder.fit_transform(data[column].astype(\"str\"))"
   ]
  },
  {
   "cell_type": "code",
   "execution_count": null,
   "metadata": {},
   "outputs": [],
   "source": [
    "common_columns = set.intersection(*(set(data.columns) for data in chosen_data))\n",
    "features = list(common_columns - ({objective} | set(ignored_features)))"
   ]
  },
  {
   "cell_type": "code",
   "execution_count": null,
   "metadata": {},
   "outputs": [],
   "source": [
    "if combined_data is None:\n",
    "    x_train, y_train = train_data[features], train_data[objective]\n",
    "    x_test, y_test = test_data[features], test_data[objective]\n",
    "else:\n",
    "    x_train, x_test, y_train, y_test = train_test_split(\n",
    "       combined_data[features], combined_data[objective], test_size=0.2)\n",
    "    \n",
    "x_train, x_validate, y_train, y_validate = train_test_split(\n",
    "    x_train, y_train, test_size=0.3)"
   ]
  },
  {
   "cell_type": "code",
   "execution_count": null,
   "metadata": {},
   "outputs": [],
   "source": [
    "forest = RandomForestClassifier(n_estimators=1000)\n",
    "forest.fit(x_train, y_train)"
   ]
  },
  {
   "cell_type": "code",
   "execution_count": null,
   "metadata": {},
   "outputs": [],
   "source": [
    "status = forest.predict_proba(x_validate)\n",
    "false_positive_rate, true_positive_rate, _ = roc_curve(y_validate, status[:,1])\n",
    "roc_auc = auc(false_positive_rate, true_positive_rate)"
   ]
  },
  {
   "cell_type": "code",
   "execution_count": null,
   "metadata": {
    "scrolled": true
   },
   "outputs": [],
   "source": [
    "plt.figure()\n",
    "plt.plot(false_positive_rate, true_positive_rate, label=\"ROC Curve (Area = {:.2f})\".format(roc_auc))\n",
    "plt.plot([0, 1], [0, 1], linestyle=\"--\")\n",
    "plt.title(\"Receiver Operating Characteristic for '{}'\".format(objective))\n",
    "plt.xlabel(\"False Positive Rate\")\n",
    "plt.ylabel(\"True Positive Rate\")\n",
    "plt.legend(loc=\"lower right\")"
   ]
  },
  {
   "cell_type": "code",
   "execution_count": null,
   "metadata": {},
   "outputs": [],
   "source": [
    "# importances = forest.feature_importances_\n",
    "# indices = np.argsort(importances)[-10:]\n",
    "# plt.barh(range(len(indices)), importances[indices])\n",
    "# plt.yticks(range(len(indices)), features[indices])"
   ]
  },
  {
   "cell_type": "code",
   "execution_count": null,
   "metadata": {
    "scrolled": true
   },
   "outputs": [],
   "source": [
    "y_true = y_validate\n",
    "y_pred = status[:, 1] < 0.5\n",
    "confusion = pd.DataFrame(confusion_matrix(y_true, y_pred), columns=[\"True\", \"False\"], index=[\"False\", \"True\"])\n",
    "accuracy = accuracy_score(y_true, y_pred)\n",
    "print(\"Accuracy Score: {:.2f}%\".format(accuracy * 100))"
   ]
  },
  {
   "cell_type": "code",
   "execution_count": null,
   "metadata": {},
   "outputs": [],
   "source": [
    "sns.heatmap(confusion, annot=True, fmt=\"d\")\n",
    "plt.title(\"Confusion Matrix for '{}'\".format(objective))\n",
    "plt.xlabel(\"Actual\")\n",
    "plt.ylabel(\"Predicted\")"
   ]
  }
 ],
 "metadata": {
  "kernelspec": {
   "display_name": "Python 3",
   "language": "python",
   "name": "python3"
  },
  "language_info": {
   "codemirror_mode": {
    "name": "ipython",
    "version": 3
   },
   "file_extension": ".py",
   "mimetype": "text/x-python",
   "name": "python",
   "nbconvert_exporter": "python",
   "pygments_lexer": "ipython3",
   "version": "3.6.5"
  }
 },
 "nbformat": 4,
 "nbformat_minor": 2
}
