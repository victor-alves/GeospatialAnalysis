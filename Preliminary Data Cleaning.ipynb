{
 "cells": [
  {
   "cell_type": "code",
   "execution_count": null,
   "metadata": {},
   "outputs": [],
   "source": [
    "import pandas as pd"
   ]
  },
  {
   "cell_type": "code",
   "execution_count": null,
   "metadata": {},
   "outputs": [],
   "source": [
    "sf = pd.read_csv(\"data1.csv\")\n",
    "pf = pd.read_csv(\"data2.csv\")\n",
    "df = pd.read_csv(\"No Region.csv\")"
   ]
  },
  {
   "cell_type": "code",
   "execution_count": null,
   "metadata": {},
   "outputs": [],
   "source": [
    "# Double check the new regional samples against each other\n",
    "for col in sf.columns.values:\n",
    "    if col not in pf.columns.values:\n",
    "        print(\"\\nRemoved \" + col)\n",
    "        sf.drop(col, axis=1, inplace=True)\n",
    "\n",
    "for col in pf.columns.values:\n",
    "    if col not in sf.columns.values:\n",
    "        print(\"\\nRemoved \" + col)\n",
    "        pf.drop(col, axis=1, inplace=True)"
   ]
  },
  {
   "cell_type": "code",
   "execution_count": null,
   "metadata": {
    "scrolled": false
   },
   "outputs": [],
   "source": [
    "# Check original data vs new\n",
    "for col in df.columns.values:\n",
    "    if col not in sf.columns.values or col not in pf.columns.values:\n",
    "        print(\"\\nThe column \" + col + \" is in the old data but not in the new data.\")"
   ]
  },
  {
   "cell_type": "code",
   "execution_count": null,
   "metadata": {
    "scrolled": false
   },
   "outputs": [],
   "source": [
    "# Check San Francisco vs original data\n",
    "for col in sf.columns.values:\n",
    "    if col not in df.columns.values:\n",
    "        sf.drop(col, axis=1, inplace=True)\n",
    "        \n",
    "# Check Pittsburg vs original data\n",
    "for col in pf.columns.values:\n",
    "    if col not in df.columns.values:\n",
    "        pf.drop(col, axis=1, inplace=True)"
   ]
  },
  {
   "cell_type": "code",
   "execution_count": null,
   "metadata": {
    "scrolled": true
   },
   "outputs": [],
   "source": [
    "sf.head(5)"
   ]
  },
  {
   "cell_type": "code",
   "execution_count": null,
   "metadata": {},
   "outputs": [],
   "source": [
    "pf.head(5)"
   ]
  },
  {
   "cell_type": "code",
   "execution_count": null,
   "metadata": {},
   "outputs": [],
   "source": [
    "# Write to new data\n",
    "sf.to_csv(\"new_data1.csv\")\n",
    "pf.to_csv(\"new_data2.csv\")"
   ]
  }
 ],
 "metadata": {
  "kernelspec": {
   "display_name": "Python 3",
   "language": "python",
   "name": "python3"
  },
  "language_info": {
   "codemirror_mode": {
    "name": "ipython",
    "version": 3
   },
   "file_extension": ".py",
   "mimetype": "text/x-python",
   "name": "python",
   "nbconvert_exporter": "python",
   "pygments_lexer": "ipython3",
   "version": "3.6.5"
  }
 },
 "nbformat": 4,
 "nbformat_minor": 2
}
